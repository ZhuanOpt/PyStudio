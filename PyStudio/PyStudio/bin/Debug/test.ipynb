{
 "cells": [
  {
   "cell_type": "code",
   "execution_count": null,
   "metadata": {},
   "outputs": [],
   "source": [
    "%matplotlib notebook\r\n",
    "import tensorwatch as tw\r\n",
    "client = tw.WatcherClient(filename='test.log')"
   ]
  },
  {
   "cell_type": "code",
   "execution_count": null,
   "metadata": {},
   "outputs": [],
   "source": [
    "s0 = client.open_stream(name='metric1')\r\n",
    "v0 = tw.Visualizer(stream=s0)\r\n",
    "v0.show()"
   ]
  }
 ],
 "metadata": {
  "language": "python"
 },
 "nbformat": 4,
 "nbformat_minor": 2
}
